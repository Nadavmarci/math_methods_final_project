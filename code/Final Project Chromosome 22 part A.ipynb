{
  "nbformat": 4,
  "nbformat_minor": 0,
  "metadata": {
    "colab": {
      "provenance": [],
      "gpuType": "T4"
    },
    "kernelspec": {
      "name": "python3",
      "display_name": "Python 3"
    },
    "language_info": {
      "name": "python"
    },
    "accelerator": "GPU"
  },
  "cells": [
    {
      "cell_type": "code",
      "execution_count": null,
      "metadata": {
        "colab": {
          "base_uri": "https://localhost:8080/"
        },
        "id": "6o1Zqaffsbwr",
        "outputId": "569f3f3e-901f-40a0-a8d0-d72911042396"
      },
      "outputs": [
        {
          "output_type": "stream",
          "name": "stdout",
          "text": [
            "Mounted at /content/drive\n",
            "File exists: True\n"
          ]
        }
      ],
      "source": [
        "# Mount Google Drive to access files\n",
        "from google.colab import drive\n",
        "drive.mount('/content/drive')\n",
        "\n",
        "import os\n",
        "vcf_file_path = \"/content/drive/My Drive/1000Genomes_PCA/ALL.chr22.phase3_shapeit2_mvncall_integrated_v5b.20130502.genotypes.vcf.gz\"\n",
        "print(\"File exists:\", os.path.exists(vcf_file_path))"
      ]
    },
    {
      "cell_type": "code",
      "source": [
        "# Download the sample information file from the 1000 Genomes Project FTP server\n",
        "!wget -O /content/drive/MyDrive/1000Genomes_PCA/sample_info.tsv https://ftp.1000genomes.ebi.ac.uk/vol1/ftp/release/20130502/integrated_call_samples_v3.20130502.ALL.panel"
      ],
      "metadata": {
        "colab": {
          "base_uri": "https://localhost:8080/"
        },
        "id": "x1z33TXssqOD",
        "outputId": "aaa3a638-9d9d-4e46-e66e-fc14bc292481"
      },
      "execution_count": null,
      "outputs": [
        {
          "output_type": "stream",
          "name": "stdout",
          "text": [
            "--2025-02-18 15:35:32--  https://ftp.1000genomes.ebi.ac.uk/vol1/ftp/release/20130502/integrated_call_samples_v3.20130502.ALL.panel\n",
            "Resolving ftp.1000genomes.ebi.ac.uk (ftp.1000genomes.ebi.ac.uk)... 193.62.193.167\n",
            "Connecting to ftp.1000genomes.ebi.ac.uk (ftp.1000genomes.ebi.ac.uk)|193.62.193.167|:443... connected.\n",
            "HTTP request sent, awaiting response... 200 OK\n",
            "Length: 55156 (54K)\n",
            "Saving to: ‘/content/drive/MyDrive/1000Genomes_PCA/sample_info.tsv’\n",
            "\n",
            "/content/drive/MyDr 100%[===================>]  53.86K   350KB/s    in 0.2s    \n",
            "\n",
            "2025-02-18 15:35:32 (350 KB/s) - ‘/content/drive/MyDrive/1000Genomes_PCA/sample_info.tsv’ saved [55156/55156]\n",
            "\n"
          ]
        }
      ]
    },
    {
      "cell_type": "code",
      "source": [
        "# Display the first 5 lines of the sample information file to verify the content\n",
        "!head -5 /content/drive/MyDrive/1000Genomes_PCA/sample_info.tsv"
      ],
      "metadata": {
        "colab": {
          "base_uri": "https://localhost:8080/"
        },
        "id": "nGGaqy3asqRF",
        "outputId": "0e29ad0e-9e46-4c5b-d2a2-976811ccd158"
      },
      "execution_count": null,
      "outputs": [
        {
          "output_type": "stream",
          "name": "stdout",
          "text": [
            "sample\tpop\tsuper_pop\tgender\t\t\n",
            "HG00096\tGBR\tEUR\tmale\n",
            "HG00097\tGBR\tEUR\tfemale\n",
            "HG00099\tGBR\tEUR\tfemale\n",
            "HG00100\tGBR\tEUR\tfemale\n"
          ]
        }
      ]
    },
    {
      "cell_type": "code",
      "source": [
        "# Extract European samples (EUR) from the sample information file and save them with their country codes\n",
        "!awk '$3 ~ /EUR/ {print $1, $2}' /content/drive/MyDrive/1000Genomes_PCA/sample_info.tsv > /content/drive/MyDrive/1000Genomes_PCA/european_samples_with_countries.txt"
      ],
      "metadata": {
        "id": "wJJXmZcSsqTv"
      },
      "execution_count": null,
      "outputs": []
    },
    {
      "cell_type": "code",
      "source": [
        "!head -5 /content/drive/MyDrive/1000Genomes_PCA/european_samples_with_countries.txt"
      ],
      "metadata": {
        "colab": {
          "base_uri": "https://localhost:8080/"
        },
        "id": "WAI7uqfZsqWU",
        "outputId": "f9a0590f-be10-4741-dedf-57e61ad2aeda"
      },
      "execution_count": null,
      "outputs": [
        {
          "output_type": "stream",
          "name": "stdout",
          "text": [
            "HG00096 GBR\n",
            "HG00097 GBR\n",
            "HG00099 GBR\n",
            "HG00100 GBR\n",
            "HG00101 GBR\n"
          ]
        }
      ]
    },
    {
      "cell_type": "code",
      "source": [
        "# Extract only the sample IDs of European individuals and save them to a separate file\n",
        "!awk '{print $1}' /content/drive/MyDrive/1000Genomes_PCA/european_samples_with_countries.txt > /content/drive/MyDrive/1000Genomes_PCA/european_samples.txt"
      ],
      "metadata": {
        "id": "3iFHP23nsqYm"
      },
      "execution_count": null,
      "outputs": []
    },
    {
      "cell_type": "code",
      "source": [
        "!apt-get install -y bcftools"
      ],
      "metadata": {
        "colab": {
          "base_uri": "https://localhost:8080/"
        },
        "id": "4AM5k_s1tCa0",
        "outputId": "968ee5d2-0d7f-4f52-d343-0ea9d8880fcd"
      },
      "execution_count": null,
      "outputs": [
        {
          "output_type": "stream",
          "name": "stdout",
          "text": [
            "Reading package lists... Done\n",
            "Building dependency tree... Done\n",
            "Reading state information... Done\n",
            "The following additional packages will be installed:\n",
            "  libhts3 libhtscodecs2\n",
            "Suggested packages:\n",
            "  python3-numpy python3-matplotlib texlive-latex-recommended\n",
            "The following NEW packages will be installed:\n",
            "  bcftools libhts3 libhtscodecs2\n",
            "0 upgraded, 3 newly installed, 0 to remove and 20 not upgraded.\n",
            "Need to get 1,140 kB of archives.\n",
            "After this operation, 3,448 kB of additional disk space will be used.\n",
            "Get:1 http://archive.ubuntu.com/ubuntu jammy/universe amd64 libhtscodecs2 amd64 1.1.1-3 [53.2 kB]\n",
            "Get:2 http://archive.ubuntu.com/ubuntu jammy/universe amd64 libhts3 amd64 1.13+ds-2build1 [390 kB]\n",
            "Get:3 http://archive.ubuntu.com/ubuntu jammy/universe amd64 bcftools amd64 1.13-1 [697 kB]\n",
            "Fetched 1,140 kB in 1s (1,333 kB/s)\n",
            "Selecting previously unselected package libhtscodecs2:amd64.\n",
            "(Reading database ... 124926 files and directories currently installed.)\n",
            "Preparing to unpack .../libhtscodecs2_1.1.1-3_amd64.deb ...\n",
            "Unpacking libhtscodecs2:amd64 (1.1.1-3) ...\n",
            "Selecting previously unselected package libhts3:amd64.\n",
            "Preparing to unpack .../libhts3_1.13+ds-2build1_amd64.deb ...\n",
            "Unpacking libhts3:amd64 (1.13+ds-2build1) ...\n",
            "Selecting previously unselected package bcftools.\n",
            "Preparing to unpack .../bcftools_1.13-1_amd64.deb ...\n",
            "Unpacking bcftools (1.13-1) ...\n",
            "Setting up libhtscodecs2:amd64 (1.1.1-3) ...\n",
            "Setting up libhts3:amd64 (1.13+ds-2build1) ...\n",
            "Setting up bcftools (1.13-1) ...\n",
            "Processing triggers for libc-bin (2.35-0ubuntu3.8) ...\n",
            "/sbin/ldconfig.real: /usr/local/lib/libur_adapter_level_zero.so.0 is not a symbolic link\n",
            "\n",
            "/sbin/ldconfig.real: /usr/local/lib/libtcm.so.1 is not a symbolic link\n",
            "\n",
            "/sbin/ldconfig.real: /usr/local/lib/libumf.so.0 is not a symbolic link\n",
            "\n",
            "/sbin/ldconfig.real: /usr/local/lib/libtcm_debug.so.1 is not a symbolic link\n",
            "\n",
            "/sbin/ldconfig.real: /usr/local/lib/libtbbbind_2_0.so.3 is not a symbolic link\n",
            "\n",
            "/sbin/ldconfig.real: /usr/local/lib/libtbb.so.12 is not a symbolic link\n",
            "\n",
            "/sbin/ldconfig.real: /usr/local/lib/libtbbbind.so.3 is not a symbolic link\n",
            "\n",
            "/sbin/ldconfig.real: /usr/local/lib/libur_loader.so.0 is not a symbolic link\n",
            "\n",
            "/sbin/ldconfig.real: /usr/local/lib/libur_adapter_opencl.so.0 is not a symbolic link\n",
            "\n",
            "/sbin/ldconfig.real: /usr/local/lib/libtbbbind_2_5.so.3 is not a symbolic link\n",
            "\n",
            "/sbin/ldconfig.real: /usr/local/lib/libtbbmalloc_proxy.so.2 is not a symbolic link\n",
            "\n",
            "/sbin/ldconfig.real: /usr/local/lib/libtbbmalloc.so.2 is not a symbolic link\n",
            "\n",
            "/sbin/ldconfig.real: /usr/local/lib/libhwloc.so.15 is not a symbolic link\n",
            "\n",
            "Processing triggers for man-db (2.10.2-1) ...\n"
          ]
        }
      ]
    },
    {
      "cell_type": "code",
      "source": [
        "# Use bcftools to filter the original VCF file and keep only European samples\n",
        "# The filtered data is saved as a compressed VCF (VCF.gz) file\n",
        "!bcftools view -S /content/drive/MyDrive/1000Genomes_PCA/european_samples.txt \\\n",
        "  -o /content/drive/MyDrive/1000Genomes_PCA/EUR.chr22.vcf.gz \\\n",
        "  -Oz /content/drive/MyDrive/1000Genomes_PCA/ALL.chr22.phase3_shapeit2_mvncall_integrated_v5b.20130502.genotypes.vcf.gz\n"
      ],
      "metadata": {
        "id": "oZ0e-poguPX9"
      },
      "execution_count": null,
      "outputs": []
    },
    {
      "cell_type": "code",
      "source": [
        "# Count the total number of samples in the original VCF file\n",
        "!bcftools query -l /content/drive/MyDrive/1000Genomes_PCA/ALL.chr22.phase3_shapeit2_mvncall_integrated_v5b.20130502.genotypes.vcf.gz | wc -l"
      ],
      "metadata": {
        "colab": {
          "base_uri": "https://localhost:8080/"
        },
        "id": "jlicT-bPuRGN",
        "outputId": "bf3d175e-62ec-4ba0-8d89-fc53bd17d787"
      },
      "execution_count": null,
      "outputs": [
        {
          "output_type": "stream",
          "name": "stdout",
          "text": [
            "2504\n"
          ]
        }
      ]
    },
    {
      "cell_type": "code",
      "source": [
        "# Count the total number of European samples in the filtered VCF file\n",
        "!bcftools query -l /content/drive/MyDrive/1000Genomes_PCA/EUR.chr22.vcf.gz | wc -l"
      ],
      "metadata": {
        "colab": {
          "base_uri": "https://localhost:8080/"
        },
        "id": "kBmTCYA8uTF0",
        "outputId": "fa730f62-b341-4646-b004-6690324f31e0"
      },
      "execution_count": null,
      "outputs": [
        {
          "output_type": "stream",
          "name": "stdout",
          "text": [
            "503\n"
          ]
        }
      ]
    },
    {
      "cell_type": "code",
      "source": [],
      "metadata": {
        "id": "f1AKurLTxSb7"
      },
      "execution_count": null,
      "outputs": []
    }
  ]
}